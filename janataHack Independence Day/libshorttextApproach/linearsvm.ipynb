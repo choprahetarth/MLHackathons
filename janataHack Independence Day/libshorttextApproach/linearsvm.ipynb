{
 "cells": [
  {
   "cell_type": "markdown",
   "metadata": {},
   "source": [
    "# Multi-class classification using Linear SVM"
   ]
  },
  {
   "cell_type": "markdown",
   "metadata": {},
   "source": [
    "## Install Libraries"
   ]
  },
  {
   "cell_type": "code",
   "execution_count": null,
   "metadata": {},
   "outputs": [],
   "source": [
    "!pip install libshorttext\n",
    "!pip install pandas"
   ]
  },
  {
   "cell_type": "markdown",
   "metadata": {},
   "source": [
    "## Preprocessing"
   ]
  },
  {
   "cell_type": "markdown",
   "metadata": {},
   "source": [
    "Preprocessing is taken care of by the library, so we only need to put the file in the correct format"
   ]
  },
  {
   "cell_type": "code",
   "execution_count": null,
   "metadata": {},
   "outputs": [],
   "source": [
    "import pandas as pd\n"
   ]
  },
  {
   "cell_type": "markdown",
   "metadata": {},
   "source": [
    "Setting up training data"
   ]
  },
  {
   "cell_type": "code",
   "execution_count": null,
   "metadata": {},
   "outputs": [],
   "source": [
    "df = pd.read_csv('data/train.csv')\n",
    "cols = [Computer Science, Physics, Mathematics, Statistics, Quantitative Biology, Quantitative Finance]\n",
    "df['text'] = df['TITLE'] + ' ' + df['ABSTRACT']\n",
    "for col in cols:\n",
    "    df[[col, 'text']].to_csv(col+'.txt', sep='\\t', index=False, header=None)"
   ]
  },
  {
   "cell_type": "markdown",
   "metadata": {},
   "source": [
    "Setting up test data"
   ]
  },
  {
   "cell_type": "code",
   "execution_count": null,
   "metadata": {},
   "outputs": [],
   "source": [
    "df = pd.read_csv('data/test.csv')\n",
    "df['text'] = df['TITLE'] + ' ' + df['ABSTRACT']\n",
    "df['label'] = 0 \n",
    "df[['label', 'text']].to_csv('newtest.txt', sep='\\t', index=False, header=None)"
   ]
  },
  {
   "cell_type": "markdown",
   "metadata": {},
   "source": [
    "## Training the models"
   ]
  },
  {
   "cell_type": "markdown",
   "metadata": {},
   "source": [
    "Training SVM model with L2 loss, Tf-idf bigram vectorization with stemming and stopword removal"
   ]
  },
  {
   "cell_type": "code",
   "execution_count": null,
   "metadata": {},
   "outputs": [],
   "source": [
    "!python text-train.py -P 7 -F 3 -L 2 -f \"data/Computer Science.txt\" \"cs\"\n",
    "!python text-train.py -P 7 -F 3 -L 2 -f \"data/Mathematics.txt\" \"math\"\n",
    "!python text-train.py -P 7 -F 3 -L 2 -f \"data/Physics.txt\" \"physics\"\n",
    "!python text-train.py -P 7 -F 3 -L 2 -f \"data/Quantitative Biology.txt\" \"qb\"\n",
    "!python text-train.py -P 7 -F 3 -L 2 -f \"data/Quantitative Finance.txt\" \"qf\"\n",
    "!python text-train.py -P 7 -F 3 -L 2 -f \"data/Statistics.txt\" \"stats\""
   ]
  },
  {
   "cell_type": "markdown",
   "metadata": {},
   "source": [
    "Validating on training data to check for underfittig"
   ]
  },
  {
   "cell_type": "code",
   "execution_count": null,
   "metadata": {},
   "outputs": [],
   "source": [
    "!python text-predict.py -f -a 0 \"data/Computer Science.txt\" cs data/computer_result.txt\n",
    "!python text-predict.py -f -a 0 \"data/Mathematics.txt\" math data/math_result.txt\n",
    "!python text-predict.py -f -a 0 \"data/Physics.txt\" physics data/physics_result.txt\n",
    "!python text-predict.py -f -a 0 \"data/Quantitative Biology.txt\" qb data/qb_result.txt\n",
    "!python text-predict.py -f -a 0 \"data/Quantitative Finance.txt\" qf data/qf_result.txt\n",
    "!python text-predict.py -f -a 0 \"data/Statistics.txt\" stats data/stats_result.txt"
   ]
  },
  {
   "cell_type": "markdown",
   "metadata": {},
   "source": [
    "## Predicting results"
   ]
  },
  {
   "cell_type": "code",
   "execution_count": null,
   "metadata": {},
   "outputs": [],
   "source": [
    "!python text-predict.py -f -a 0 data/newtest.txt cs data/computer_result.txt\n",
    "!python text-predict.py -f -a 0 data/newtest.txt math data/math_result.txt\n",
    "!python text-predict.py -f -a 0 data/newtest.txt physics data/physics_result.txt\n",
    "!python text-predict.py -f -a 0 data/newtest.txt qb data/qb_result.txt\n",
    "!python text-predict.py -f -a 0 data/newtest.txt qf data/qf_result.txt\n",
    "!python text-predict.py -f -a 0 data/newtest.txt stats data/stats_result.txt"
   ]
  }
 ],
 "metadata": {
  "kernelspec": {
   "display_name": "Python 3",
   "language": "python",
   "name": "python3"
  },
  "language_info": {
   "codemirror_mode": {
    "name": "ipython",
    "version": 3
   },
   "file_extension": ".py",
   "mimetype": "text/x-python",
   "name": "python",
   "nbconvert_exporter": "python",
   "pygments_lexer": "ipython3",
   "version": "3.6.5"
  }
 },
 "nbformat": 4,
 "nbformat_minor": 4
}
