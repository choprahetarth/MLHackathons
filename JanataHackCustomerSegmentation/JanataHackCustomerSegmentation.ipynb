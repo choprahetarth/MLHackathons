{
  "nbformat": 4,
  "nbformat_minor": 0,
  "metadata": {
    "kernelspec": {
      "name": "python3",
      "display_name": "Python 3",
      "language": "python"
    },
    "language_info": {
      "name": "python",
      "version": "3.7.6",
      "mimetype": "text/x-python",
      "codemirror_mode": {
        "name": "ipython",
        "version": 3
      },
      "pygments_lexer": "ipython3",
      "nbconvert_exporter": "python",
      "file_extension": ".py"
    },
    "colab": {
      "name": "JanataHackCustomerSegmentation.ipynb",
      "provenance": [],
      "collapsed_sections": [
        "UQxdgy0p72rC",
        "wmbNodnvQI5c",
        "C2rdJ0ImgF8n",
        "SwcZtCJe1vby",
        "SWBVlO_x8XMS",
        "xzsUA9XH7D3m",
        "LhblVe617J16",
        "JHcIq0xEr7WV",
        "RxeSvbnMvnON",
        "i5gA0OZBJSjQ"
      ],
      "toc_visible": true
    }
  },
  "cells": [
    {
      "cell_type": "code",
      "metadata": {
        "trusted": true,
        "id": "Q_ExJHCqvnM8",
        "colab_type": "code",
        "colab": {}
      },
      "source": [
        "import numpy as np\n",
        "import pandas as pd\n",
        "import os \n",
        "import matplotlib.pyplot as plt\n",
        "from pandas import plotting\n",
        "from sklearn.preprocessing import LabelEncoder\n",
        "from sklearn.metrics import f1_score\n",
        "from sklearn.model_selection import KFold, train_test_split\n",
        "from sklearn.impute import SimpleImputer\n",
        "from lightgbm import LGBMClassifier\n",
        "from xgboost import XGBClassifier"
      ],
      "execution_count": null,
      "outputs": []
    },
    {
      "cell_type": "code",
      "metadata": {
        "id": "ZNmuIxHwwcYd",
        "colab_type": "code",
        "colab": {
          "base_uri": "https://localhost:8080/",
          "height": 54
        },
        "outputId": "6fd679d8-a6a4-4fbc-d592-9fc59c3e8264"
      },
      "source": [
        "from google.colab import drive\n",
        "drive.mount('/content/drive')"
      ],
      "execution_count": null,
      "outputs": [
        {
          "output_type": "stream",
          "text": [
            "Drive already mounted at /content/drive; to attempt to forcibly remount, call drive.mount(\"/content/drive\", force_remount=True).\n"
          ],
          "name": "stdout"
        }
      ]
    },
    {
      "cell_type": "code",
      "metadata": {
        "id": "_vpzlLB_xLLd",
        "colab_type": "code",
        "colab": {}
      },
      "source": [
        "cwd = os.getcwd()"
      ],
      "execution_count": null,
      "outputs": []
    },
    {
      "cell_type": "code",
      "metadata": {
        "id": "OxVqDbBhxffH",
        "colab_type": "code",
        "colab": {}
      },
      "source": [
        "os.chdir('/content/drive/My Drive/Colab Notebooks/JanataHackCustomer')"
      ],
      "execution_count": null,
      "outputs": []
    },
    {
      "cell_type": "code",
      "metadata": {
        "trusted": true,
        "id": "A-74S3aFvnNC",
        "colab_type": "code",
        "colab": {}
      },
      "source": [
        "Dataset_train=pd.read_csv('Train_aBjfeNk.csv')\n",
        "Dataset=pd.read_csv('Test_LqhgPWU.csv')\n",
        "\n",
        "Dataset=pd.concat([Dataset_train, Dataset], axis=0, ignore_index=True, sort=False)"
      ],
      "execution_count": null,
      "outputs": []
    },
    {
      "cell_type": "code",
      "metadata": {
        "id": "Cy4ijONhxw4f",
        "colab_type": "code",
        "colab": {
          "base_uri": "https://localhost:8080/",
          "height": 224
        },
        "outputId": "3ea66811-bf3c-413d-8453-f2db860b6529"
      },
      "source": [
        "Dataset.head()"
      ],
      "execution_count": null,
      "outputs": [
        {
          "output_type": "execute_result",
          "data": {
            "text/html": [
              "<div>\n",
              "<style scoped>\n",
              "    .dataframe tbody tr th:only-of-type {\n",
              "        vertical-align: middle;\n",
              "    }\n",
              "\n",
              "    .dataframe tbody tr th {\n",
              "        vertical-align: top;\n",
              "    }\n",
              "\n",
              "    .dataframe thead th {\n",
              "        text-align: right;\n",
              "    }\n",
              "</style>\n",
              "<table border=\"1\" class=\"dataframe\">\n",
              "  <thead>\n",
              "    <tr style=\"text-align: right;\">\n",
              "      <th></th>\n",
              "      <th>ID</th>\n",
              "      <th>Gender</th>\n",
              "      <th>Ever_Married</th>\n",
              "      <th>Age</th>\n",
              "      <th>Graduated</th>\n",
              "      <th>Profession</th>\n",
              "      <th>Work_Experience</th>\n",
              "      <th>Spending_Score</th>\n",
              "      <th>Family_Size</th>\n",
              "      <th>Var_1</th>\n",
              "      <th>Segmentation</th>\n",
              "    </tr>\n",
              "  </thead>\n",
              "  <tbody>\n",
              "    <tr>\n",
              "      <th>0</th>\n",
              "      <td>462809</td>\n",
              "      <td>Male</td>\n",
              "      <td>No</td>\n",
              "      <td>22</td>\n",
              "      <td>No</td>\n",
              "      <td>Healthcare</td>\n",
              "      <td>1.0</td>\n",
              "      <td>Low</td>\n",
              "      <td>4.0</td>\n",
              "      <td>Cat_4</td>\n",
              "      <td>D</td>\n",
              "    </tr>\n",
              "    <tr>\n",
              "      <th>1</th>\n",
              "      <td>462643</td>\n",
              "      <td>Female</td>\n",
              "      <td>Yes</td>\n",
              "      <td>38</td>\n",
              "      <td>Yes</td>\n",
              "      <td>Engineer</td>\n",
              "      <td>NaN</td>\n",
              "      <td>Average</td>\n",
              "      <td>3.0</td>\n",
              "      <td>Cat_4</td>\n",
              "      <td>A</td>\n",
              "    </tr>\n",
              "    <tr>\n",
              "      <th>2</th>\n",
              "      <td>466315</td>\n",
              "      <td>Female</td>\n",
              "      <td>Yes</td>\n",
              "      <td>67</td>\n",
              "      <td>Yes</td>\n",
              "      <td>Engineer</td>\n",
              "      <td>1.0</td>\n",
              "      <td>Low</td>\n",
              "      <td>1.0</td>\n",
              "      <td>Cat_6</td>\n",
              "      <td>B</td>\n",
              "    </tr>\n",
              "    <tr>\n",
              "      <th>3</th>\n",
              "      <td>461735</td>\n",
              "      <td>Male</td>\n",
              "      <td>Yes</td>\n",
              "      <td>67</td>\n",
              "      <td>Yes</td>\n",
              "      <td>Lawyer</td>\n",
              "      <td>0.0</td>\n",
              "      <td>High</td>\n",
              "      <td>2.0</td>\n",
              "      <td>Cat_6</td>\n",
              "      <td>B</td>\n",
              "    </tr>\n",
              "    <tr>\n",
              "      <th>4</th>\n",
              "      <td>462669</td>\n",
              "      <td>Female</td>\n",
              "      <td>Yes</td>\n",
              "      <td>40</td>\n",
              "      <td>Yes</td>\n",
              "      <td>Entertainment</td>\n",
              "      <td>NaN</td>\n",
              "      <td>High</td>\n",
              "      <td>6.0</td>\n",
              "      <td>Cat_6</td>\n",
              "      <td>A</td>\n",
              "    </tr>\n",
              "  </tbody>\n",
              "</table>\n",
              "</div>"
            ],
            "text/plain": [
              "       ID  Gender Ever_Married  ...  Family_Size  Var_1 Segmentation\n",
              "0  462809    Male           No  ...          4.0  Cat_4            D\n",
              "1  462643  Female          Yes  ...          3.0  Cat_4            A\n",
              "2  466315  Female          Yes  ...          1.0  Cat_6            B\n",
              "3  461735    Male          Yes  ...          2.0  Cat_6            B\n",
              "4  462669  Female          Yes  ...          6.0  Cat_6            A\n",
              "\n",
              "[5 rows x 11 columns]"
            ]
          },
          "metadata": {
            "tags": []
          },
          "execution_count": 457
        }
      ]
    },
    {
      "cell_type": "code",
      "metadata": {
        "trusted": true,
        "id": "P8fxuo-gvnNF",
        "colab_type": "code",
        "colab": {
          "base_uri": "https://localhost:8080/",
          "height": 34
        },
        "outputId": "25e94e79-d495-468a-ad99-96592edf95f9"
      },
      "source": [
        "Dataset.shape , Dataset_train.shape"
      ],
      "execution_count": null,
      "outputs": [
        {
          "output_type": "execute_result",
          "data": {
            "text/plain": [
              "((10695, 11), (8068, 11))"
            ]
          },
          "metadata": {
            "tags": []
          },
          "execution_count": 458
        }
      ]
    },
    {
      "cell_type": "code",
      "metadata": {
        "trusted": true,
        "id": "hknCP7GIvnNI",
        "colab_type": "code",
        "colab": {
          "base_uri": "https://localhost:8080/",
          "height": 221
        },
        "outputId": "01f44da4-7c8d-4c47-9e8e-5073dc5a55b0"
      },
      "source": [
        "Dataset.isnull().sum()"
      ],
      "execution_count": null,
      "outputs": [
        {
          "output_type": "execute_result",
          "data": {
            "text/plain": [
              "ID                    0\n",
              "Gender                0\n",
              "Ever_Married        190\n",
              "Age                   0\n",
              "Graduated           102\n",
              "Profession          162\n",
              "Work_Experience    1098\n",
              "Spending_Score        0\n",
              "Family_Size         448\n",
              "Var_1               108\n",
              "Segmentation       2627\n",
              "dtype: int64"
            ]
          },
          "metadata": {
            "tags": []
          },
          "execution_count": 459
        }
      ]
    },
    {
      "cell_type": "markdown",
      "metadata": {
        "id": "UQxdgy0p72rC",
        "colab_type": "text"
      },
      "source": [
        "## AUTO EDA RESULTS"
      ]
    },
    {
      "cell_type": "markdown",
      "metadata": {
        "id": "ZFFEqUrO744J",
        "colab_type": "text"
      },
      "source": [
        "![alt text](https://drive.google.com/uc?export=view&id=11E-ze61OpfRvJhJvE5wIUaaDmR1KdoRL)"
      ]
    },
    {
      "cell_type": "markdown",
      "metadata": {
        "id": "7raOA-Xz87Ao",
        "colab_type": "text"
      },
      "source": [
        "![alt text](https://drive.google.com/uc?export=view&id=18UTgg-Ed0bcSTljymkRa0iS9imaGehMM)"
      ]
    },
    {
      "cell_type": "markdown",
      "metadata": {
        "id": "E3N6zXZ09CzS",
        "colab_type": "text"
      },
      "source": [
        "![alt text](https://drive.google.com/uc?export=view&id=11E-ze61OpfRvJhJvE5wIUaaDmR1KdoRL)"
      ]
    },
    {
      "cell_type": "markdown",
      "metadata": {
        "id": "wmbNodnvQI5c",
        "colab_type": "text"
      },
      "source": [
        "# MultiClass Approach"
      ]
    },
    {
      "cell_type": "markdown",
      "metadata": {
        "id": "C2rdJ0ImgF8n",
        "colab_type": "text"
      },
      "source": [
        "##Data Leak Detection, and list separation"
      ]
    },
    {
      "cell_type": "code",
      "metadata": {
        "id": "1Q83QnRoc1YZ",
        "colab_type": "code",
        "colab": {
          "base_uri": "https://localhost:8080/",
          "height": 34
        },
        "outputId": "26b911d8-e1e8-47ca-cba6-4ceb8ed61e08"
      },
      "source": [
        "''' Finding any Data Leaks '''\n",
        "len(Dataset['ID'].unique())"
      ],
      "execution_count": null,
      "outputs": [
        {
          "output_type": "execute_result",
          "data": {
            "text/plain": [
              "8363"
            ]
          },
          "metadata": {
            "tags": []
          },
          "execution_count": 460
        }
      ]
    },
    {
      "cell_type": "code",
      "metadata": {
        "id": "SkQAejlODUoh",
        "colab_type": "code",
        "colab": {
          "base_uri": "https://localhost:8080/",
          "height": 34
        },
        "outputId": "93474a37-2f6d-457b-b872-bac4f2ab68b6"
      },
      "source": [
        "Dataset.shape[0]"
      ],
      "execution_count": null,
      "outputs": [
        {
          "output_type": "execute_result",
          "data": {
            "text/plain": [
              "10695"
            ]
          },
          "metadata": {
            "tags": []
          },
          "execution_count": 461
        }
      ]
    },
    {
      "cell_type": "code",
      "metadata": {
        "id": "vk8Gb7ZJdqHZ",
        "colab_type": "code",
        "colab": {
          "base_uri": "https://localhost:8080/",
          "height": 34
        },
        "outputId": "782df329-a418-4f0c-fad1-234bcb76202b"
      },
      "source": [
        "'''These are the duplicate entires'''\n",
        "Dataset.shape[0]-len(Dataset['ID'].unique())"
      ],
      "execution_count": null,
      "outputs": [
        {
          "output_type": "execute_result",
          "data": {
            "text/plain": [
              "2332"
            ]
          },
          "metadata": {
            "tags": []
          },
          "execution_count": 462
        }
      ]
    },
    {
      "cell_type": "code",
      "metadata": {
        "id": "kNMrIBuHogj6",
        "colab_type": "code",
        "colab": {}
      },
      "source": [
        "''' Creating a new Dataframe with all duplicate ID's '''\n",
        "Df = Dataset['ID'][Dataset['ID'].duplicated(keep=False)]\n",
        "Df = Df.drop_duplicates(keep='last')"
      ],
      "execution_count": null,
      "outputs": []
    },
    {
      "cell_type": "markdown",
      "metadata": {
        "id": "SwcZtCJe1vby",
        "colab_type": "text"
      },
      "source": [
        "## NULL VALUE TREATEMENT"
      ]
    },
    {
      "cell_type": "markdown",
      "metadata": {
        "id": "SWBVlO_x8XMS",
        "colab_type": "text"
      },
      "source": [
        "###IMPUTING"
      ]
    },
    {
      "cell_type": "code",
      "metadata": {
        "trusted": true,
        "id": "XYrdVkxlvnNL",
        "colab_type": "code",
        "colab": {}
      },
      "source": [
        "Dataset['Ever_Married'].value_counts()\n",
        "Dataset['Ever_Married'].fillna('NA', inplace=True)"
      ],
      "execution_count": null,
      "outputs": []
    },
    {
      "cell_type": "code",
      "metadata": {
        "trusted": true,
        "id": "IOX7fUX4vnNQ",
        "colab_type": "code",
        "colab": {}
      },
      "source": [
        "Dataset['Graduated'].value_counts()\n",
        "Dataset['Graduated'].fillna('NA', inplace=True)"
      ],
      "execution_count": null,
      "outputs": []
    },
    {
      "cell_type": "code",
      "metadata": {
        "trusted": true,
        "id": "8fplWyhPvnNT",
        "colab_type": "code",
        "colab": {}
      },
      "source": [
        "Dataset['Profession'].value_counts()\n",
        "Dataset['Profession'].fillna('NA', inplace=True)"
      ],
      "execution_count": null,
      "outputs": []
    },
    {
      "cell_type": "code",
      "metadata": {
        "trusted": true,
        "id": "EazRBwSnvnNW",
        "colab_type": "code",
        "colab": {
          "base_uri": "https://localhost:8080/",
          "height": 306
        },
        "outputId": "cbe08395-3f2c-4f9d-8dd7-a27ad72350d2"
      },
      "source": [
        "Dataset['Work_Experience'].fillna(-1.0, inplace=True)\n",
        "Dataset['Work_Experience'].value_counts()"
      ],
      "execution_count": null,
      "outputs": [
        {
          "output_type": "execute_result",
          "data": {
            "text/plain": [
              " 1.0     3127\n",
              " 0.0     3087\n",
              "-1.0     1098\n",
              " 9.0      613\n",
              " 8.0      612\n",
              " 2.0      373\n",
              " 4.0      346\n",
              " 3.0      337\n",
              " 5.0      270\n",
              " 6.0      265\n",
              " 7.0      256\n",
              " 14.0      66\n",
              " 11.0      64\n",
              " 10.0      64\n",
              " 12.0      60\n",
              " 13.0      57\n",
              "Name: Work_Experience, dtype: int64"
            ]
          },
          "metadata": {
            "tags": []
          },
          "execution_count": 467
        }
      ]
    },
    {
      "cell_type": "code",
      "metadata": {
        "trusted": true,
        "id": "FntIi1DjvnNZ",
        "colab_type": "code",
        "colab": {
          "base_uri": "https://localhost:8080/",
          "height": 204
        },
        "outputId": "52f90689-380d-4987-a47a-470dea992c1f"
      },
      "source": [
        "Dataset['Family_Size'].fillna(-1, inplace=True)\n",
        "Dataset['Family_Size'].value_counts()"
      ],
      "execution_count": null,
      "outputs": [
        {
          "output_type": "execute_result",
          "data": {
            "text/plain": [
              " 2.0    3158\n",
              " 1.0    1965\n",
              " 3.0    1952\n",
              " 4.0    1823\n",
              " 5.0     812\n",
              "-1.0     448\n",
              " 6.0     290\n",
              " 7.0     122\n",
              " 8.0      65\n",
              " 9.0      60\n",
              "Name: Family_Size, dtype: int64"
            ]
          },
          "metadata": {
            "tags": []
          },
          "execution_count": 468
        }
      ]
    },
    {
      "cell_type": "code",
      "metadata": {
        "id": "sYRic_RXIaLv",
        "colab_type": "code",
        "colab": {
          "base_uri": "https://localhost:8080/",
          "height": 439
        },
        "outputId": "56625aa1-83ce-4cd1-c797-9e6534254292"
      },
      "source": [
        "Dataset"
      ],
      "execution_count": null,
      "outputs": [
        {
          "output_type": "execute_result",
          "data": {
            "text/html": [
              "<div>\n",
              "<style scoped>\n",
              "    .dataframe tbody tr th:only-of-type {\n",
              "        vertical-align: middle;\n",
              "    }\n",
              "\n",
              "    .dataframe tbody tr th {\n",
              "        vertical-align: top;\n",
              "    }\n",
              "\n",
              "    .dataframe thead th {\n",
              "        text-align: right;\n",
              "    }\n",
              "</style>\n",
              "<table border=\"1\" class=\"dataframe\">\n",
              "  <thead>\n",
              "    <tr style=\"text-align: right;\">\n",
              "      <th></th>\n",
              "      <th>ID</th>\n",
              "      <th>Gender</th>\n",
              "      <th>Ever_Married</th>\n",
              "      <th>Age</th>\n",
              "      <th>Graduated</th>\n",
              "      <th>Profession</th>\n",
              "      <th>Work_Experience</th>\n",
              "      <th>Spending_Score</th>\n",
              "      <th>Family_Size</th>\n",
              "      <th>Var_1</th>\n",
              "      <th>Segmentation</th>\n",
              "    </tr>\n",
              "  </thead>\n",
              "  <tbody>\n",
              "    <tr>\n",
              "      <th>0</th>\n",
              "      <td>462809</td>\n",
              "      <td>Male</td>\n",
              "      <td>No</td>\n",
              "      <td>22</td>\n",
              "      <td>No</td>\n",
              "      <td>Healthcare</td>\n",
              "      <td>1.0</td>\n",
              "      <td>Low</td>\n",
              "      <td>4.0</td>\n",
              "      <td>Cat_4</td>\n",
              "      <td>D</td>\n",
              "    </tr>\n",
              "    <tr>\n",
              "      <th>1</th>\n",
              "      <td>462643</td>\n",
              "      <td>Female</td>\n",
              "      <td>Yes</td>\n",
              "      <td>38</td>\n",
              "      <td>Yes</td>\n",
              "      <td>Engineer</td>\n",
              "      <td>-1.0</td>\n",
              "      <td>Average</td>\n",
              "      <td>3.0</td>\n",
              "      <td>Cat_4</td>\n",
              "      <td>A</td>\n",
              "    </tr>\n",
              "    <tr>\n",
              "      <th>2</th>\n",
              "      <td>466315</td>\n",
              "      <td>Female</td>\n",
              "      <td>Yes</td>\n",
              "      <td>67</td>\n",
              "      <td>Yes</td>\n",
              "      <td>Engineer</td>\n",
              "      <td>1.0</td>\n",
              "      <td>Low</td>\n",
              "      <td>1.0</td>\n",
              "      <td>Cat_6</td>\n",
              "      <td>B</td>\n",
              "    </tr>\n",
              "    <tr>\n",
              "      <th>3</th>\n",
              "      <td>461735</td>\n",
              "      <td>Male</td>\n",
              "      <td>Yes</td>\n",
              "      <td>67</td>\n",
              "      <td>Yes</td>\n",
              "      <td>Lawyer</td>\n",
              "      <td>0.0</td>\n",
              "      <td>High</td>\n",
              "      <td>2.0</td>\n",
              "      <td>Cat_6</td>\n",
              "      <td>B</td>\n",
              "    </tr>\n",
              "    <tr>\n",
              "      <th>4</th>\n",
              "      <td>462669</td>\n",
              "      <td>Female</td>\n",
              "      <td>Yes</td>\n",
              "      <td>40</td>\n",
              "      <td>Yes</td>\n",
              "      <td>Entertainment</td>\n",
              "      <td>-1.0</td>\n",
              "      <td>High</td>\n",
              "      <td>6.0</td>\n",
              "      <td>Cat_6</td>\n",
              "      <td>A</td>\n",
              "    </tr>\n",
              "    <tr>\n",
              "      <th>...</th>\n",
              "      <td>...</td>\n",
              "      <td>...</td>\n",
              "      <td>...</td>\n",
              "      <td>...</td>\n",
              "      <td>...</td>\n",
              "      <td>...</td>\n",
              "      <td>...</td>\n",
              "      <td>...</td>\n",
              "      <td>...</td>\n",
              "      <td>...</td>\n",
              "      <td>...</td>\n",
              "    </tr>\n",
              "    <tr>\n",
              "      <th>10690</th>\n",
              "      <td>467954</td>\n",
              "      <td>Male</td>\n",
              "      <td>No</td>\n",
              "      <td>29</td>\n",
              "      <td>No</td>\n",
              "      <td>Healthcare</td>\n",
              "      <td>9.0</td>\n",
              "      <td>Low</td>\n",
              "      <td>4.0</td>\n",
              "      <td>Cat_6</td>\n",
              "      <td>NaN</td>\n",
              "    </tr>\n",
              "    <tr>\n",
              "      <th>10691</th>\n",
              "      <td>467958</td>\n",
              "      <td>Female</td>\n",
              "      <td>No</td>\n",
              "      <td>35</td>\n",
              "      <td>Yes</td>\n",
              "      <td>Doctor</td>\n",
              "      <td>1.0</td>\n",
              "      <td>Low</td>\n",
              "      <td>1.0</td>\n",
              "      <td>Cat_6</td>\n",
              "      <td>NaN</td>\n",
              "    </tr>\n",
              "    <tr>\n",
              "      <th>10692</th>\n",
              "      <td>467960</td>\n",
              "      <td>Female</td>\n",
              "      <td>No</td>\n",
              "      <td>53</td>\n",
              "      <td>Yes</td>\n",
              "      <td>Entertainment</td>\n",
              "      <td>-1.0</td>\n",
              "      <td>Low</td>\n",
              "      <td>2.0</td>\n",
              "      <td>Cat_6</td>\n",
              "      <td>NaN</td>\n",
              "    </tr>\n",
              "    <tr>\n",
              "      <th>10693</th>\n",
              "      <td>467961</td>\n",
              "      <td>Male</td>\n",
              "      <td>Yes</td>\n",
              "      <td>47</td>\n",
              "      <td>Yes</td>\n",
              "      <td>Executive</td>\n",
              "      <td>1.0</td>\n",
              "      <td>High</td>\n",
              "      <td>5.0</td>\n",
              "      <td>Cat_4</td>\n",
              "      <td>NaN</td>\n",
              "    </tr>\n",
              "    <tr>\n",
              "      <th>10694</th>\n",
              "      <td>467968</td>\n",
              "      <td>Female</td>\n",
              "      <td>No</td>\n",
              "      <td>43</td>\n",
              "      <td>Yes</td>\n",
              "      <td>Healthcare</td>\n",
              "      <td>9.0</td>\n",
              "      <td>Low</td>\n",
              "      <td>3.0</td>\n",
              "      <td>Cat_7</td>\n",
              "      <td>NaN</td>\n",
              "    </tr>\n",
              "  </tbody>\n",
              "</table>\n",
              "<p>10695 rows × 11 columns</p>\n",
              "</div>"
            ],
            "text/plain": [
              "           ID  Gender Ever_Married  ...  Family_Size  Var_1 Segmentation\n",
              "0      462809    Male           No  ...          4.0  Cat_4            D\n",
              "1      462643  Female          Yes  ...          3.0  Cat_4            A\n",
              "2      466315  Female          Yes  ...          1.0  Cat_6            B\n",
              "3      461735    Male          Yes  ...          2.0  Cat_6            B\n",
              "4      462669  Female          Yes  ...          6.0  Cat_6            A\n",
              "...       ...     ...          ...  ...          ...    ...          ...\n",
              "10690  467954    Male           No  ...          4.0  Cat_6          NaN\n",
              "10691  467958  Female           No  ...          1.0  Cat_6          NaN\n",
              "10692  467960  Female           No  ...          2.0  Cat_6          NaN\n",
              "10693  467961    Male          Yes  ...          5.0  Cat_4          NaN\n",
              "10694  467968  Female           No  ...          3.0  Cat_7          NaN\n",
              "\n",
              "[10695 rows x 11 columns]"
            ]
          },
          "metadata": {
            "tags": []
          },
          "execution_count": 469
        }
      ]
    },
    {
      "cell_type": "code",
      "metadata": {
        "trusted": true,
        "id": "xKuEAJe9vnNb",
        "colab_type": "code",
        "colab": {
          "base_uri": "https://localhost:8080/",
          "height": 170
        },
        "outputId": "811b0ea1-d369-4537-eb68-5a1301e9451d"
      },
      "source": [
        "Dataset['Var_1'].fillna('Unknown', inplace=True)\n",
        "Dataset['Var_1'].value_counts()"
      ],
      "execution_count": null,
      "outputs": [
        {
          "output_type": "execute_result",
          "data": {
            "text/plain": [
              "Cat_6      6910\n",
              "Cat_4      1475\n",
              "Cat_3      1089\n",
              "Cat_2       563\n",
              "Cat_7       269\n",
              "Cat_1       167\n",
              "Cat_5       114\n",
              "Unknown     108\n",
              "Name: Var_1, dtype: int64"
            ]
          },
          "metadata": {
            "tags": []
          },
          "execution_count": 470
        }
      ]
    },
    {
      "cell_type": "code",
      "metadata": {
        "trusted": true,
        "id": "guw3-1fzvnNe",
        "colab_type": "code",
        "colab": {}
      },
      "source": [
        "# Dataset['Loan_Amount_uested']=Dataset['Loan_Amount_Requested'].str.replace(\",\" ,'')\n",
        "\n",
        "# Dataset['Loan_Amount_Requested']=Dataset['Loan_Amount_Requested'].astype(int)\n",
        "\n",
        "# Dataset['Loan_Amount_Requested'].describe()\n",
        "\n",
        "# Dataset['Loan_Amount_Requested']=np.log(Dataset['Loan_Amount_Requested'])\n",
        "\n",
        "# Dataset['Months_Since_Deliquency'].describe()\n",
        "\n",
        "# Dataset['Months_Since_Deliquency']=np.log(Dataset['Months_Since_Deliquency'], where = Dataset['Months_Since_Deliquency']!=0)\n",
        "\n",
        "# Dataset['Annual_Income'].describe()\n",
        "\n",
        "# Dataset['Annual_Income']=np.log(Dataset['Annual_Income'])\n",
        "\n",
        "# Dataset['Number_Open_Accounts'].describe()\n",
        "\n",
        "# Dataset['Number_Open_Accounts']=np.log(Dataset['Number_Open_Accounts'], where = Dataset['Number_Open_Accounts']!=0)\n",
        "\n",
        "\n",
        "# Dataset['Total_Accounts']=np.log(Dataset['Total_Accounts'])\n",
        "\n",
        "# Dataset['Home_Owner'].fillna('unknown', inplace=True)\n",
        "\n",
        "# Dataset['Length_Employed']=Dataset['Length_Employed'].str.replace('years', '')\n",
        "\n",
        "# Dataset['Length_Employed']=Dataset['Length_Employed'].replace('1 year', 1)\n",
        "\n",
        "# Dataset['Length_Employed']=Dataset['Length_Employed'].replace('10+ ', 11)\n",
        "\n",
        "# Dataset['Length_Employed']=Dataset['Length_Employed'].replace('< 1 year', 0)\n",
        "\n",
        "# Dataset['Length_Employed'].fillna(21, inplace=True)\n",
        "\n",
        "# Dataset['Length_Employed']=Dataset['Length_Employed'].astype(int)\n",
        "\n",
        "# label_encode=LabelEncoder()\n",
        "\n",
        "# Dataset['Gender']=label_encode.fit_transform(Dataset['Gender'])\n",
        "\n",
        "# Dataset['Purpose_Of_Loan'].value_counts()\n",
        "\n",
        "# Dataset['Purpose_Of_Loan']=Dataset['Purpose_Of_Loan'].map({'debt_consolidation':1, 'credit_card':2,\n",
        "#                                                            'home_improvement':3, 'other':4,\n",
        "#                                                            'major_purchase':5, 'small_business':6,\n",
        "#                                                            'car':7, 'medical':8, \n",
        "#                                                            'moving':9, 'vacation':10,\n",
        "#                                                            'wedding':11, 'house':12,\n",
        "#                                                            'renewable_energy':13, 'educational':14})"
      ],
      "execution_count": null,
      "outputs": []
    },
    {
      "cell_type": "code",
      "metadata": {
        "trusted": true,
        "id": "I7GU-rOnvnNg",
        "colab_type": "code",
        "colab": {
          "base_uri": "https://localhost:8080/",
          "height": 323
        },
        "outputId": "bc4d636a-2875-4158-e0b2-8cea7f49b594"
      },
      "source": [
        "Dataset.info()"
      ],
      "execution_count": null,
      "outputs": [
        {
          "output_type": "stream",
          "text": [
            "<class 'pandas.core.frame.DataFrame'>\n",
            "RangeIndex: 10695 entries, 0 to 10694\n",
            "Data columns (total 11 columns):\n",
            " #   Column           Non-Null Count  Dtype  \n",
            "---  ------           --------------  -----  \n",
            " 0   ID               10695 non-null  int64  \n",
            " 1   Gender           10695 non-null  object \n",
            " 2   Ever_Married     10695 non-null  object \n",
            " 3   Age              10695 non-null  int64  \n",
            " 4   Graduated        10695 non-null  object \n",
            " 5   Profession       10695 non-null  object \n",
            " 6   Work_Experience  10695 non-null  float64\n",
            " 7   Spending_Score   10695 non-null  object \n",
            " 8   Family_Size      10695 non-null  float64\n",
            " 9   Var_1            10695 non-null  object \n",
            " 10  Segmentation     8068 non-null   object \n",
            "dtypes: float64(2), int64(2), object(7)\n",
            "memory usage: 919.2+ KB\n"
          ],
          "name": "stdout"
        }
      ]
    },
    {
      "cell_type": "code",
      "metadata": {
        "trusted": true,
        "id": "fyDpigv0vnNj",
        "colab_type": "code",
        "colab": {}
      },
      "source": [
        "Dataset=pd.get_dummies(Dataset, columns=['Gender', 'Ever_Married','Graduated','Profession','Var_1','Spending_Score'], drop_first=True)"
      ],
      "execution_count": null,
      "outputs": []
    },
    {
      "cell_type": "code",
      "metadata": {
        "trusted": true,
        "id": "Hjj6vy3bvnNl",
        "colab_type": "code",
        "colab": {
          "base_uri": "https://localhost:8080/",
          "height": 612
        },
        "outputId": "8b2ae5f8-12b8-4121-c401-7cf0ff1a9731"
      },
      "source": [
        "Dataset.info()"
      ],
      "execution_count": null,
      "outputs": [
        {
          "output_type": "stream",
          "text": [
            "<class 'pandas.core.frame.DataFrame'>\n",
            "RangeIndex: 10695 entries, 0 to 10694\n",
            "Data columns (total 28 columns):\n",
            " #   Column                    Non-Null Count  Dtype  \n",
            "---  ------                    --------------  -----  \n",
            " 0   ID                        10695 non-null  int64  \n",
            " 1   Age                       10695 non-null  int64  \n",
            " 2   Work_Experience           10695 non-null  float64\n",
            " 3   Family_Size               10695 non-null  float64\n",
            " 4   Segmentation              8068 non-null   object \n",
            " 5   Gender_Male               10695 non-null  uint8  \n",
            " 6   Ever_Married_No           10695 non-null  uint8  \n",
            " 7   Ever_Married_Yes          10695 non-null  uint8  \n",
            " 8   Graduated_No              10695 non-null  uint8  \n",
            " 9   Graduated_Yes             10695 non-null  uint8  \n",
            " 10  Profession_Doctor         10695 non-null  uint8  \n",
            " 11  Profession_Engineer       10695 non-null  uint8  \n",
            " 12  Profession_Entertainment  10695 non-null  uint8  \n",
            " 13  Profession_Executive      10695 non-null  uint8  \n",
            " 14  Profession_Healthcare     10695 non-null  uint8  \n",
            " 15  Profession_Homemaker      10695 non-null  uint8  \n",
            " 16  Profession_Lawyer         10695 non-null  uint8  \n",
            " 17  Profession_Marketing      10695 non-null  uint8  \n",
            " 18  Profession_NA             10695 non-null  uint8  \n",
            " 19  Var_1_Cat_2               10695 non-null  uint8  \n",
            " 20  Var_1_Cat_3               10695 non-null  uint8  \n",
            " 21  Var_1_Cat_4               10695 non-null  uint8  \n",
            " 22  Var_1_Cat_5               10695 non-null  uint8  \n",
            " 23  Var_1_Cat_6               10695 non-null  uint8  \n",
            " 24  Var_1_Cat_7               10695 non-null  uint8  \n",
            " 25  Var_1_Unknown             10695 non-null  uint8  \n",
            " 26  Spending_Score_High       10695 non-null  uint8  \n",
            " 27  Spending_Score_Low        10695 non-null  uint8  \n",
            "dtypes: float64(2), int64(2), object(1), uint8(23)\n",
            "memory usage: 658.1+ KB\n"
          ],
          "name": "stdout"
        }
      ]
    },
    {
      "cell_type": "code",
      "metadata": {
        "trusted": true,
        "id": "n_faomB0vnNo",
        "colab_type": "code",
        "colab": {
          "base_uri": "https://localhost:8080/",
          "height": 34
        },
        "outputId": "a4122a3f-509b-4916-f4fb-4659a8dbb699"
      },
      "source": [
        "Dataset.isnull().sum()\n",
        "Dataset.shape"
      ],
      "execution_count": null,
      "outputs": [
        {
          "output_type": "execute_result",
          "data": {
            "text/plain": [
              "(10695, 28)"
            ]
          },
          "metadata": {
            "tags": []
          },
          "execution_count": 474
        }
      ]
    },
    {
      "cell_type": "code",
      "metadata": {
        "trusted": true,
        "id": "kxxuajyzvnNr",
        "colab_type": "code",
        "colab": {}
      },
      "source": [
        "# Dataset['Account_ratio']=Dataset['Number_Open_Accounts']/Dataset['Total_Accounts']\n",
        "# Dataset.head(5)"
      ],
      "execution_count": null,
      "outputs": []
    },
    {
      "cell_type": "code",
      "metadata": {
        "trusted": true,
        "id": "6DSMJS79vnNt",
        "colab_type": "code",
        "colab": {}
      },
      "source": [
        "Dataset_test=Dataset[Dataset['Segmentation'].isnull()==True]\n",
        "Dataset=Dataset[Dataset['Segmentation'].isnull()!=True]"
      ],
      "execution_count": null,
      "outputs": []
    },
    {
      "cell_type": "code",
      "metadata": {
        "trusted": true,
        "id": "1fSrvfIxvnNw",
        "colab_type": "code",
        "colab": {
          "base_uri": "https://localhost:8080/",
          "height": 34
        },
        "outputId": "245afcb3-91ec-4667-9714-cb30d1d0c343"
      },
      "source": [
        "Dataset_test.shape , Dataset.shape"
      ],
      "execution_count": null,
      "outputs": [
        {
          "output_type": "execute_result",
          "data": {
            "text/plain": [
              "((2627, 28), (8068, 28))"
            ]
          },
          "metadata": {
            "tags": []
          },
          "execution_count": 477
        }
      ]
    },
    {
      "cell_type": "code",
      "metadata": {
        "trusted": true,
        "id": "hlm-GtwCvnN4",
        "colab_type": "code",
        "colab": {
          "base_uri": "https://localhost:8080/",
          "height": 612
        },
        "outputId": "fb2933e5-fd46-4573-e503-953f6ccf6eb2"
      },
      "source": [
        "Dataset.info()"
      ],
      "execution_count": null,
      "outputs": [
        {
          "output_type": "stream",
          "text": [
            "<class 'pandas.core.frame.DataFrame'>\n",
            "Int64Index: 8068 entries, 0 to 8067\n",
            "Data columns (total 28 columns):\n",
            " #   Column                    Non-Null Count  Dtype  \n",
            "---  ------                    --------------  -----  \n",
            " 0   ID                        8068 non-null   int64  \n",
            " 1   Age                       8068 non-null   int64  \n",
            " 2   Work_Experience           8068 non-null   float64\n",
            " 3   Family_Size               8068 non-null   float64\n",
            " 4   Segmentation              8068 non-null   object \n",
            " 5   Gender_Male               8068 non-null   uint8  \n",
            " 6   Ever_Married_No           8068 non-null   uint8  \n",
            " 7   Ever_Married_Yes          8068 non-null   uint8  \n",
            " 8   Graduated_No              8068 non-null   uint8  \n",
            " 9   Graduated_Yes             8068 non-null   uint8  \n",
            " 10  Profession_Doctor         8068 non-null   uint8  \n",
            " 11  Profession_Engineer       8068 non-null   uint8  \n",
            " 12  Profession_Entertainment  8068 non-null   uint8  \n",
            " 13  Profession_Executive      8068 non-null   uint8  \n",
            " 14  Profession_Healthcare     8068 non-null   uint8  \n",
            " 15  Profession_Homemaker      8068 non-null   uint8  \n",
            " 16  Profession_Lawyer         8068 non-null   uint8  \n",
            " 17  Profession_Marketing      8068 non-null   uint8  \n",
            " 18  Profession_NA             8068 non-null   uint8  \n",
            " 19  Var_1_Cat_2               8068 non-null   uint8  \n",
            " 20  Var_1_Cat_3               8068 non-null   uint8  \n",
            " 21  Var_1_Cat_4               8068 non-null   uint8  \n",
            " 22  Var_1_Cat_5               8068 non-null   uint8  \n",
            " 23  Var_1_Cat_6               8068 non-null   uint8  \n",
            " 24  Var_1_Cat_7               8068 non-null   uint8  \n",
            " 25  Var_1_Unknown             8068 non-null   uint8  \n",
            " 26  Spending_Score_High       8068 non-null   uint8  \n",
            " 27  Spending_Score_Low        8068 non-null   uint8  \n",
            "dtypes: float64(2), int64(2), object(1), uint8(23)\n",
            "memory usage: 559.4+ KB\n"
          ],
          "name": "stdout"
        }
      ]
    },
    {
      "cell_type": "code",
      "metadata": {
        "trusted": true,
        "id": "SRipmF34vnN6",
        "colab_type": "code",
        "colab": {}
      },
      "source": [
        "#X=Dataset.drop(['Segmentation', 'ID'], axis=1)\n",
        "#Y=Dataset['Segmentation']\n",
        "X = Dataset.drop(['Segmentation'],axis=1)\n",
        "Y = Dataset['Segmentation']\n",
        "\n",
        "#X=X.iloc[:, :].values\n",
        "#Y=Y.iloc[:].values\n",
        "\n",
        "# imputer=SimpleImputer(missing_values=np.nan, strategy='mean')\n",
        "\n",
        "# X[:, 2:3]=imputer.fit_transform(X[:, 2:3])\n",
        "\n",
        "# X[:, 6:7]=imputer.fit_transform(X[:, 6:7])\n"
      ],
      "execution_count": null,
      "outputs": []
    },
    {
      "cell_type": "code",
      "metadata": {
        "trusted": true,
        "id": "-n-M98CxvnN8",
        "colab_type": "code",
        "colab": {}
      },
      "source": [
        "#rc=RandomForestClassifier(n_estimators=500, criterion='gini', max_depth=10, n_jobs=-1, random_state=100)\n",
        "#rc.fit(X_train,Y_train)\n",
        "#Y_predict=rc.predict(X_test)\n",
        "\n",
        "#print(f1_score(Y_test,Y_predict, average='weighted'))\n"
      ],
      "execution_count": null,
      "outputs": []
    },
    {
      "cell_type": "code",
      "metadata": {
        "id": "z0PdD8Vs861_",
        "colab_type": "code",
        "colab": {}
      },
      "source": [
        "X=X.iloc[:, :].values\n",
        "Y=Y.iloc[:].values"
      ],
      "execution_count": null,
      "outputs": []
    },
    {
      "cell_type": "markdown",
      "metadata": {
        "id": "xzsUA9XH7D3m",
        "colab_type": "text"
      },
      "source": [
        "## INITIAL MODEL PROTOTYPING"
      ]
    },
    {
      "cell_type": "code",
      "metadata": {
        "trusted": true,
        "id": "E3Lm7U-IvnN-",
        "colab_type": "code",
        "colab": {}
      },
      "source": [
        "from sklearn.metrics import accuracy_score"
      ],
      "execution_count": null,
      "outputs": []
    },
    {
      "cell_type": "code",
      "metadata": {
        "trusted": true,
        "id": "kL7JISYOvnOB",
        "colab_type": "code",
        "colab": {}
      },
      "source": [
        "from sklearn import tree"
      ],
      "execution_count": null,
      "outputs": []
    },
    {
      "cell_type": "code",
      "metadata": {
        "trusted": true,
        "id": "6pCe8IJ7vnOF",
        "colab_type": "code",
        "colab": {
          "base_uri": "https://localhost:8080/",
          "height": 139
        },
        "outputId": "f6ea9631-d506-425d-e008-9271da7eb160"
      },
      "source": [
        "pd.DataFrame(X).isnull().sum()\n",
        "\n",
        "X_train,X_test,Y_train,Y_test=train_test_split(X,Y,test_size=0.2,random_state=0)\n",
        "\n",
        "#lg=LGBMClassifier(boosting_type='gbdt', max_depth=14, learning_rate=0.14, objective='multiclass', reg_alpha=0,\n",
        "#                   reg_lambda=1, n_jobs=-1, random_state=100, n_estimators=600)\n",
        "\n",
        "lg=LGBMClassifier(n_estimators=500)\n",
        "#dt = tree.DecisionTreeClassifier()\n",
        "lg.fit(X_train,Y_train)\n",
        "Y_predict=lg.predict(X_test)\n",
        "\n",
        "print(f1_score(Y_test,Y_predict, average='weighted'))\n",
        "print(accuracy_score(Y_test,Y_predict))\n",
        "\n"
      ],
      "execution_count": null,
      "outputs": [
        {
          "output_type": "stream",
          "text": [
            "/usr/local/lib/python3.6/dist-packages/sklearn/preprocessing/_label.py:235: DataConversionWarning: A column-vector y was passed when a 1d array was expected. Please change the shape of y to (n_samples, ), for example using ravel().\n",
            "  y = column_or_1d(y, warn=True)\n",
            "/usr/local/lib/python3.6/dist-packages/sklearn/preprocessing/_label.py:268: DataConversionWarning: A column-vector y was passed when a 1d array was expected. Please change the shape of y to (n_samples, ), for example using ravel().\n",
            "  y = column_or_1d(y, warn=True)\n"
          ],
          "name": "stderr"
        },
        {
          "output_type": "stream",
          "text": [
            "0.5064976966447672\n",
            "0.5086741016109045\n"
          ],
          "name": "stdout"
        }
      ]
    },
    {
      "cell_type": "code",
      "metadata": {
        "trusted": true,
        "id": "j0D9b__MvnOI",
        "colab_type": "code",
        "colab": {
          "base_uri": "https://localhost:8080/",
          "height": 493
        },
        "outputId": "736c8ebc-0743-40c7-a9b1-33aac2f5b45a"
      },
      "source": [
        "#X_main_test=Dataset_test.drop(['Segmentation', 'ID'], axis=1)\n",
        "X_main_test=Dataset_test.drop(['Segmentation'], axis=1)\n",
        "X_main_test=X_main_test.iloc[:, :].values\n",
        "\n",
        "# X_main_test[:, 2:3]=imputer.fit_transform(X_main_test[:, 2:3])\n",
        "\n",
        "# X_main_test[:, 6:7]=imputer.fit_transform(X_main_test[:, 6:7])\n",
        "\n",
        "pd.DataFrame(X_main_test).isnull().sum()"
      ],
      "execution_count": null,
      "outputs": [
        {
          "output_type": "execute_result",
          "data": {
            "text/plain": [
              "0     0\n",
              "1     0\n",
              "2     0\n",
              "3     0\n",
              "4     0\n",
              "5     0\n",
              "6     0\n",
              "7     0\n",
              "8     0\n",
              "9     0\n",
              "10    0\n",
              "11    0\n",
              "12    0\n",
              "13    0\n",
              "14    0\n",
              "15    0\n",
              "16    0\n",
              "17    0\n",
              "18    0\n",
              "19    0\n",
              "20    0\n",
              "21    0\n",
              "22    0\n",
              "23    0\n",
              "24    0\n",
              "25    0\n",
              "26    0\n",
              "dtype: int64"
            ]
          },
          "metadata": {
            "tags": []
          },
          "execution_count": 501
        }
      ]
    },
    {
      "cell_type": "code",
      "metadata": {
        "id": "efLJzYZ40IdE",
        "colab_type": "code",
        "colab": {
          "base_uri": "https://localhost:8080/",
          "height": 238
        },
        "outputId": "0dc1d7a8-eedd-47b5-b493-a25306a05e79"
      },
      "source": [
        "os.listdir()"
      ],
      "execution_count": null,
      "outputs": [
        {
          "output_type": "execute_result",
          "data": {
            "text/plain": [
              "['Test_LqhgPWU.csv',\n",
              " 'Train_aBjfeNk.csv',\n",
              " 'sample_submission.csv',\n",
              " 'Report.html',\n",
              " 'basic_solution_SCALING.csv',\n",
              " 'basic_solution_impute_mean.csv',\n",
              " 'basic_solution_ID.csv',\n",
              " 'basic_solution_leaked.csv',\n",
              " 'basic_solution_leaked_check.csv',\n",
              " 'median_impute_check.csv',\n",
              " 'nestimator300.csv',\n",
              " 'nestimator500.csv',\n",
              " 'nestimator500_ensemble.csv']"
            ]
          },
          "metadata": {
            "tags": []
          },
          "execution_count": 502
        }
      ]
    },
    {
      "cell_type": "markdown",
      "metadata": {
        "id": "LhblVe617J16",
        "colab_type": "text"
      },
      "source": [
        "## Prediction"
      ]
    },
    {
      "cell_type": "code",
      "metadata": {
        "trusted": true,
        "id": "CWwno_1RvnOL",
        "colab_type": "code",
        "colab": {}
      },
      "source": [
        "Y_test_predict=lg.predict(X_main_test)\n",
        "\n",
        "sample_submission=pd.read_csv('sample_submission.csv')\n",
        "sample_submission['Segmentation']=Y_test_predict\n",
        "\n",
        "#sample_submission.to_csv('basic_solution_leaked.csv', index=False)"
      ],
      "execution_count": null,
      "outputs": []
    },
    {
      "cell_type": "markdown",
      "metadata": {
        "id": "JHcIq0xEr7WV",
        "colab_type": "text"
      },
      "source": [
        "## Editing the Predicted CSV\n"
      ]
    },
    {
      "cell_type": "code",
      "metadata": {
        "id": "05sWk8iwr-vh",
        "colab_type": "code",
        "colab": {}
      },
      "source": [
        "leaked_prediction = sample_submission"
      ],
      "execution_count": null,
      "outputs": []
    },
    {
      "cell_type": "code",
      "metadata": {
        "id": "uR6-c34Ks6Np",
        "colab_type": "code",
        "colab": {
          "base_uri": "https://localhost:8080/",
          "height": 419
        },
        "outputId": "d61940b5-f508-4198-8270-a1305bf59376"
      },
      "source": [
        "leaked_prediction"
      ],
      "execution_count": null,
      "outputs": [
        {
          "output_type": "execute_result",
          "data": {
            "text/html": [
              "<div>\n",
              "<style scoped>\n",
              "    .dataframe tbody tr th:only-of-type {\n",
              "        vertical-align: middle;\n",
              "    }\n",
              "\n",
              "    .dataframe tbody tr th {\n",
              "        vertical-align: top;\n",
              "    }\n",
              "\n",
              "    .dataframe thead th {\n",
              "        text-align: right;\n",
              "    }\n",
              "</style>\n",
              "<table border=\"1\" class=\"dataframe\">\n",
              "  <thead>\n",
              "    <tr style=\"text-align: right;\">\n",
              "      <th></th>\n",
              "      <th>ID</th>\n",
              "      <th>Segmentation</th>\n",
              "    </tr>\n",
              "  </thead>\n",
              "  <tbody>\n",
              "    <tr>\n",
              "      <th>0</th>\n",
              "      <td>458989</td>\n",
              "      <td>1</td>\n",
              "    </tr>\n",
              "    <tr>\n",
              "      <th>1</th>\n",
              "      <td>458994</td>\n",
              "      <td>2</td>\n",
              "    </tr>\n",
              "    <tr>\n",
              "      <th>2</th>\n",
              "      <td>458996</td>\n",
              "      <td>0</td>\n",
              "    </tr>\n",
              "    <tr>\n",
              "      <th>3</th>\n",
              "      <td>459000</td>\n",
              "      <td>2</td>\n",
              "    </tr>\n",
              "    <tr>\n",
              "      <th>4</th>\n",
              "      <td>459001</td>\n",
              "      <td>3</td>\n",
              "    </tr>\n",
              "    <tr>\n",
              "      <th>...</th>\n",
              "      <td>...</td>\n",
              "      <td>...</td>\n",
              "    </tr>\n",
              "    <tr>\n",
              "      <th>2622</th>\n",
              "      <td>467954</td>\n",
              "      <td>3</td>\n",
              "    </tr>\n",
              "    <tr>\n",
              "      <th>2623</th>\n",
              "      <td>467958</td>\n",
              "      <td>1</td>\n",
              "    </tr>\n",
              "    <tr>\n",
              "      <th>2624</th>\n",
              "      <td>467960</td>\n",
              "      <td>0</td>\n",
              "    </tr>\n",
              "    <tr>\n",
              "      <th>2625</th>\n",
              "      <td>467961</td>\n",
              "      <td>1</td>\n",
              "    </tr>\n",
              "    <tr>\n",
              "      <th>2626</th>\n",
              "      <td>467968</td>\n",
              "      <td>3</td>\n",
              "    </tr>\n",
              "  </tbody>\n",
              "</table>\n",
              "<p>2627 rows × 2 columns</p>\n",
              "</div>"
            ],
            "text/plain": [
              "          ID  Segmentation\n",
              "0     458989             1\n",
              "1     458994             2\n",
              "2     458996             0\n",
              "3     459000             2\n",
              "4     459001             3\n",
              "...      ...           ...\n",
              "2622  467954             3\n",
              "2623  467958             1\n",
              "2624  467960             0\n",
              "2625  467961             1\n",
              "2626  467968             3\n",
              "\n",
              "[2627 rows x 2 columns]"
            ]
          },
          "metadata": {
            "tags": []
          },
          "execution_count": 505
        }
      ]
    },
    {
      "cell_type": "code",
      "metadata": {
        "id": "0szd4yjDs-GJ",
        "colab_type": "code",
        "colab": {
          "base_uri": "https://localhost:8080/",
          "height": 122
        },
        "outputId": "9d48d015-f71b-46ee-8732-d6c2260ad5f3"
      },
      "source": [
        "count = 0 \n",
        "for i in Df:\n",
        "  A = (Df.iloc[count] == leaked_prediction['ID'])\n",
        "  leaked_prediction.Segmentation.iloc[A[::-1].idxmax()] = Dataset_train[Dataset_train.eq(i).any(1)].Segmentation.iloc[0]\n",
        "  count+=1"
      ],
      "execution_count": null,
      "outputs": [
        {
          "output_type": "stream",
          "text": [
            "/usr/local/lib/python3.6/dist-packages/pandas/core/indexing.py:671: SettingWithCopyWarning: \n",
            "A value is trying to be set on a copy of a slice from a DataFrame\n",
            "\n",
            "See the caveats in the documentation: https://pandas.pydata.org/pandas-docs/stable/user_guide/indexing.html#returning-a-view-versus-a-copy\n",
            "  self._setitem_with_indexer(indexer, value)\n"
          ],
          "name": "stderr"
        }
      ]
    },
    {
      "cell_type": "code",
      "metadata": {
        "id": "fTUXHC_1zqtJ",
        "colab_type": "code",
        "colab": {
          "base_uri": "https://localhost:8080/",
          "height": 419
        },
        "outputId": "0adadb36-d7b9-4dd1-e812-0ffcbdd69055"
      },
      "source": [
        "leaked_prediction"
      ],
      "execution_count": null,
      "outputs": [
        {
          "output_type": "execute_result",
          "data": {
            "text/html": [
              "<div>\n",
              "<style scoped>\n",
              "    .dataframe tbody tr th:only-of-type {\n",
              "        vertical-align: middle;\n",
              "    }\n",
              "\n",
              "    .dataframe tbody tr th {\n",
              "        vertical-align: top;\n",
              "    }\n",
              "\n",
              "    .dataframe thead th {\n",
              "        text-align: right;\n",
              "    }\n",
              "</style>\n",
              "<table border=\"1\" class=\"dataframe\">\n",
              "  <thead>\n",
              "    <tr style=\"text-align: right;\">\n",
              "      <th></th>\n",
              "      <th>ID</th>\n",
              "      <th>Segmentation</th>\n",
              "    </tr>\n",
              "  </thead>\n",
              "  <tbody>\n",
              "    <tr>\n",
              "      <th>0</th>\n",
              "      <td>458989</td>\n",
              "      <td>B</td>\n",
              "    </tr>\n",
              "    <tr>\n",
              "      <th>1</th>\n",
              "      <td>458994</td>\n",
              "      <td>C</td>\n",
              "    </tr>\n",
              "    <tr>\n",
              "      <th>2</th>\n",
              "      <td>458996</td>\n",
              "      <td>A</td>\n",
              "    </tr>\n",
              "    <tr>\n",
              "      <th>3</th>\n",
              "      <td>459000</td>\n",
              "      <td>C</td>\n",
              "    </tr>\n",
              "    <tr>\n",
              "      <th>4</th>\n",
              "      <td>459001</td>\n",
              "      <td>C</td>\n",
              "    </tr>\n",
              "    <tr>\n",
              "      <th>...</th>\n",
              "      <td>...</td>\n",
              "      <td>...</td>\n",
              "    </tr>\n",
              "    <tr>\n",
              "      <th>2622</th>\n",
              "      <td>467954</td>\n",
              "      <td>D</td>\n",
              "    </tr>\n",
              "    <tr>\n",
              "      <th>2623</th>\n",
              "      <td>467958</td>\n",
              "      <td>A</td>\n",
              "    </tr>\n",
              "    <tr>\n",
              "      <th>2624</th>\n",
              "      <td>467960</td>\n",
              "      <td>0</td>\n",
              "    </tr>\n",
              "    <tr>\n",
              "      <th>2625</th>\n",
              "      <td>467961</td>\n",
              "      <td>B</td>\n",
              "    </tr>\n",
              "    <tr>\n",
              "      <th>2626</th>\n",
              "      <td>467968</td>\n",
              "      <td>3</td>\n",
              "    </tr>\n",
              "  </tbody>\n",
              "</table>\n",
              "<p>2627 rows × 2 columns</p>\n",
              "</div>"
            ],
            "text/plain": [
              "          ID Segmentation\n",
              "0     458989            B\n",
              "1     458994            C\n",
              "2     458996            A\n",
              "3     459000            C\n",
              "4     459001            C\n",
              "...      ...          ...\n",
              "2622  467954            D\n",
              "2623  467958            A\n",
              "2624  467960            0\n",
              "2625  467961            B\n",
              "2626  467968            3\n",
              "\n",
              "[2627 rows x 2 columns]"
            ]
          },
          "metadata": {
            "tags": []
          },
          "execution_count": 507
        }
      ]
    },
    {
      "cell_type": "code",
      "metadata": {
        "id": "ueyAW-M9u5p4",
        "colab_type": "code",
        "colab": {}
      },
      "source": [
        "leaked_prediction.to_csv('nestimator800.csv', index=False)"
      ],
      "execution_count": null,
      "outputs": []
    },
    {
      "cell_type": "markdown",
      "metadata": {
        "id": "RxeSvbnMvnON",
        "colab_type": "text"
      },
      "source": [
        "## Cross Validation (Used, but doesnt effect the end result)\n"
      ]
    },
    {
      "cell_type": "code",
      "metadata": {
        "id": "uQpIzeydHU2X",
        "colab_type": "code",
        "colab": {}
      },
      "source": [
        "X=pd.DataFrame(X)\n",
        "Y=pd.DataFrame(Y)"
      ],
      "execution_count": null,
      "outputs": []
    },
    {
      "cell_type": "code",
      "metadata": {
        "id": "GNwr2TLWCrOe",
        "colab_type": "code",
        "colab": {
          "base_uri": "https://localhost:8080/",
          "height": 71
        },
        "outputId": "0fc8fb21-4a9e-4c2c-cf51-723127c97a41"
      },
      "source": [
        "'''label encoding = y'''\n",
        "label_encode=LabelEncoder()\n",
        "Y= label_encode.fit_transform(Y)"
      ],
      "execution_count": null,
      "outputs": [
        {
          "output_type": "stream",
          "text": [
            "/usr/local/lib/python3.6/dist-packages/sklearn/preprocessing/_label.py:251: DataConversionWarning: A column-vector y was passed when a 1d array was expected. Please change the shape of y to (n_samples, ), for example using ravel().\n",
            "  y = column_or_1d(y, warn=True)\n"
          ],
          "name": "stderr"
        }
      ]
    },
    {
      "cell_type": "code",
      "metadata": {
        "id": "lGNG_j4xHel2",
        "colab_type": "code",
        "colab": {}
      },
      "source": [
        "#label_encode.inverse_transform(Y)"
      ],
      "execution_count": null,
      "outputs": []
    },
    {
      "cell_type": "code",
      "metadata": {
        "id": "M-s1t95HIFzT",
        "colab_type": "code",
        "colab": {
          "base_uri": "https://localhost:8080/",
          "height": 34
        },
        "outputId": "2f2f152a-0a98-4114-c91e-4090f66db594"
      },
      "source": [
        "Dataset.shape"
      ],
      "execution_count": null,
      "outputs": [
        {
          "output_type": "execute_result",
          "data": {
            "text/plain": [
              "(8068, 28)"
            ]
          },
          "metadata": {
            "tags": []
          },
          "execution_count": 484
        }
      ]
    },
    {
      "cell_type": "code",
      "metadata": {
        "id": "LEAj9QyhIOwQ",
        "colab_type": "code",
        "colab": {}
      },
      "source": [
        "model=LGBMClassifier(n_estimators=500)"
      ],
      "execution_count": null,
      "outputs": []
    },
    {
      "cell_type": "code",
      "metadata": {
        "trusted": true,
        "id": "8awihmOmvnON",
        "colab_type": "code",
        "colab": {
          "base_uri": "https://localhost:8080/",
          "height": 802
        },
        "outputId": "d5e533ae-eb00-429b-ca48-30a02c0c4753"
      },
      "source": [
        "X=pd.DataFrame(X)\n",
        "Y=pd.DataFrame(Y)\n",
        "X_main_test=pd.DataFrame(X_main_test)\n",
        "\n",
        "kf=KFold(n_splits=10, random_state=100, shuffle=True)\n",
        "\n",
        "y_test_predict=0\n",
        "f1_score1 = 0\n",
        "acc_score1 = 0\n",
        "j=1\n",
        "result={}\n",
        "for i, (train_index, test_index) in enumerate(kf.split(Dataset)):\n",
        "    \n",
        "   Y_train, Y_valid = Y.iloc[train_index], Y.iloc[test_index]\n",
        "   X_train, X_valid = X.iloc[train_index,:], X.iloc[test_index,:]\n",
        "   \n",
        "   print( \"\\nFold \", j)\n",
        "    \n",
        "   model=lg.fit(X_train,Y_train)\n",
        "   pred = model.predict(X_valid)\n",
        "   \n",
        "   print(f1_score(Y_valid,pred, average='weighted'))\n",
        "   print(accuracy_score(Y_valid,pred)) \n",
        "   f1_score1+=f1_score(Y_valid,pred, average='weighted')\n",
        "   acc_score1+=accuracy_score(Y_valid,pred)\n",
        "    \n",
        "   y_test_predict+=model.predict(X_main_test)  \n",
        "   result[j]=model.predict(X_main_test)\n",
        "   j+=1\n",
        "   \n",
        "    \n",
        "results=y_test_predict/10  \n",
        "results=np.round(results, decimals=0)\n",
        "print(f1_score1/10)\n",
        "\n",
        "d = pd.DataFrame()\n",
        "for i in range(1, 11):\n",
        "    d = pd.concat([d,pd.DataFrame(result[i])],axis=1)\n",
        "d.columns=['1','2','3','4','5','6','7','8','9','10']"
      ],
      "execution_count": null,
      "outputs": [
        {
          "output_type": "stream",
          "text": [
            "\n",
            "Fold  1\n"
          ],
          "name": "stdout"
        },
        {
          "output_type": "stream",
          "text": [
            "/usr/local/lib/python3.6/dist-packages/sklearn/preprocessing/_label.py:235: DataConversionWarning: A column-vector y was passed when a 1d array was expected. Please change the shape of y to (n_samples, ), for example using ravel().\n",
            "  y = column_or_1d(y, warn=True)\n",
            "/usr/local/lib/python3.6/dist-packages/sklearn/preprocessing/_label.py:268: DataConversionWarning: A column-vector y was passed when a 1d array was expected. Please change the shape of y to (n_samples, ), for example using ravel().\n",
            "  y = column_or_1d(y, warn=True)\n"
          ],
          "name": "stderr"
        },
        {
          "output_type": "stream",
          "text": [
            "0.5192475949750658\n",
            "0.5254027261462205\n",
            "\n",
            "Fold  2\n",
            "0.5014924239512717\n",
            "0.5018587360594795\n",
            "\n",
            "Fold  3\n",
            "0.5297562632275656\n",
            "0.5315985130111525\n",
            "\n",
            "Fold  4\n",
            "0.4971092007030907\n",
            "0.4993804213135068\n",
            "\n",
            "Fold  5\n",
            "0.5272149743166348\n",
            "0.530359355638166\n",
            "\n",
            "Fold  6\n",
            "0.5301313454201186\n",
            "0.5278810408921933\n",
            "\n",
            "Fold  7\n",
            "0.525028358134088\n",
            "0.5291201982651796\n",
            "\n",
            "Fold  8\n",
            "0.526514495746757\n",
            "0.5291201982651796\n",
            "\n",
            "Fold  9\n",
            "0.5315328389289367\n",
            "0.5347394540942928\n",
            "\n",
            "Fold  10\n",
            "0.5456221754461964\n",
            "0.5483870967741935\n",
            "0.5233649670849725\n"
          ],
          "name": "stdout"
        }
      ]
    },
    {
      "cell_type": "code",
      "metadata": {
        "trusted": true,
        "id": "qTo6zOc9vnOP",
        "colab_type": "code",
        "colab": {
          "base_uri": "https://localhost:8080/",
          "height": 71
        },
        "outputId": "3e20913b-728f-485e-fa0c-e5aa20d6f22d"
      },
      "source": [
        "re = d.mode(axis=1)[0]\n",
        "re = pd.DataFrame(re).astype('int32')\n",
        "re = label_encode.inverse_transform(re)\n",
        "sample_submission=pd.read_csv('sample_submission.csv')\n",
        "sample_submission['Segmentation']=re\n",
        "#sample_submission.to_csv('C:/Users/UF145GV/Documents/DL/testing/Bank Statement/main_test.csv', index=False)"
      ],
      "execution_count": null,
      "outputs": [
        {
          "output_type": "stream",
          "text": [
            "/usr/local/lib/python3.6/dist-packages/sklearn/preprocessing/_label.py:289: DataConversionWarning: A column-vector y was passed when a 1d array was expected. Please change the shape of y to (n_samples, ), for example using ravel().\n",
            "  y = column_or_1d(y, warn=True)\n"
          ],
          "name": "stderr"
        }
      ]
    },
    {
      "cell_type": "code",
      "metadata": {
        "id": "tipuU5q2JHsA",
        "colab_type": "code",
        "colab": {}
      },
      "source": [
        ""
      ],
      "execution_count": null,
      "outputs": []
    },
    {
      "cell_type": "code",
      "metadata": {
        "trusted": true,
        "id": "24dUduONvnOR",
        "colab_type": "code",
        "colab": {}
      },
      "source": [
        "import matplotlib.pyplot as plt \n",
        "import seaborn as sns \n",
        "import plotly as py\n",
        "import plotly.graph_objs as go\n",
        "from sklearn.cluster import KMeans\n",
        "import warnings\n",
        "import os"
      ],
      "execution_count": null,
      "outputs": []
    },
    {
      "cell_type": "code",
      "metadata": {
        "trusted": true,
        "id": "vCjTbVk5vnOU",
        "colab_type": "code",
        "colab": {}
      },
      "source": [
        "X1=Dataset.drop(['Segmentation', 'ID'], axis=1).iloc[: , :].values\n",
        "# Y=Dataset['Segmentation']\n",
        "# X1 = df[['Age' , 'Spending Score (1-100)']].iloc[: , :].values\n",
        "inertia = []\n",
        "for n in range(1 , 11):\n",
        "    algorithm = (KMeans(n_clusters = n ,init='k-means++', n_init = 10 ,max_iter=300, \n",
        "                        tol=0.0001,  random_state= 111  , algorithm='elkan') )\n",
        "    algorithm.fit(X1)\n",
        "    inertia.append(algorithm.inertia_)"
      ],
      "execution_count": null,
      "outputs": []
    },
    {
      "cell_type": "code",
      "metadata": {
        "trusted": true,
        "id": "ZoXlEpXwvnOW",
        "colab_type": "code",
        "colab": {}
      },
      "source": [
        "plt.figure(1 , figsize = (15 ,6))\n",
        "plt.plot(np.arange(1 , 11) , inertia , 'o')\n",
        "plt.plot(np.arange(1 , 11) , inertia , '-' , alpha = 0.5)\n",
        "plt.xlabel('Number of Clusters') , plt.ylabel('Inertia')\n",
        "plt.show()"
      ],
      "execution_count": null,
      "outputs": []
    },
    {
      "cell_type": "code",
      "metadata": {
        "trusted": true,
        "id": "a4vflUQJvnOY",
        "colab_type": "code",
        "colab": {}
      },
      "source": [
        "algorithm = (KMeans(n_clusters = 4 ,init='k-means++', n_init = 10 ,max_iter=300, \n",
        "                        tol=0.0001,  random_state= 111  , algorithm='elkan') )\n",
        "algorithm.fit(X1)\n",
        "labels1 = algorithm.labels_\n",
        "centroids1 = algorithm.cluster_centers_"
      ],
      "execution_count": null,
      "outputs": []
    },
    {
      "cell_type": "markdown",
      "metadata": {
        "colab_type": "text",
        "id": "i5gA0OZBJSjQ"
      },
      "source": [
        "## Editing the Predicted CSV\n"
      ]
    },
    {
      "cell_type": "code",
      "metadata": {
        "colab_type": "code",
        "id": "D5PFrCC5JSjR",
        "colab": {}
      },
      "source": [
        "leaked_prediction = sample_submission"
      ],
      "execution_count": null,
      "outputs": []
    },
    {
      "cell_type": "code",
      "metadata": {
        "colab_type": "code",
        "id": "XhtjxiJQJSjU",
        "colab": {
          "base_uri": "https://localhost:8080/",
          "height": 419
        },
        "outputId": "975ba9b4-b61b-410b-cb01-8689d5ce96a3"
      },
      "source": [
        "leaked_prediction"
      ],
      "execution_count": null,
      "outputs": [
        {
          "output_type": "execute_result",
          "data": {
            "text/html": [
              "<div>\n",
              "<style scoped>\n",
              "    .dataframe tbody tr th:only-of-type {\n",
              "        vertical-align: middle;\n",
              "    }\n",
              "\n",
              "    .dataframe tbody tr th {\n",
              "        vertical-align: top;\n",
              "    }\n",
              "\n",
              "    .dataframe thead th {\n",
              "        text-align: right;\n",
              "    }\n",
              "</style>\n",
              "<table border=\"1\" class=\"dataframe\">\n",
              "  <thead>\n",
              "    <tr style=\"text-align: right;\">\n",
              "      <th></th>\n",
              "      <th>ID</th>\n",
              "      <th>Segmentation</th>\n",
              "    </tr>\n",
              "  </thead>\n",
              "  <tbody>\n",
              "    <tr>\n",
              "      <th>0</th>\n",
              "      <td>458989</td>\n",
              "      <td>B</td>\n",
              "    </tr>\n",
              "    <tr>\n",
              "      <th>1</th>\n",
              "      <td>458994</td>\n",
              "      <td>C</td>\n",
              "    </tr>\n",
              "    <tr>\n",
              "      <th>2</th>\n",
              "      <td>458996</td>\n",
              "      <td>A</td>\n",
              "    </tr>\n",
              "    <tr>\n",
              "      <th>3</th>\n",
              "      <td>459000</td>\n",
              "      <td>C</td>\n",
              "    </tr>\n",
              "    <tr>\n",
              "      <th>4</th>\n",
              "      <td>459001</td>\n",
              "      <td>D</td>\n",
              "    </tr>\n",
              "    <tr>\n",
              "      <th>...</th>\n",
              "      <td>...</td>\n",
              "      <td>...</td>\n",
              "    </tr>\n",
              "    <tr>\n",
              "      <th>2622</th>\n",
              "      <td>467954</td>\n",
              "      <td>D</td>\n",
              "    </tr>\n",
              "    <tr>\n",
              "      <th>2623</th>\n",
              "      <td>467958</td>\n",
              "      <td>A</td>\n",
              "    </tr>\n",
              "    <tr>\n",
              "      <th>2624</th>\n",
              "      <td>467960</td>\n",
              "      <td>A</td>\n",
              "    </tr>\n",
              "    <tr>\n",
              "      <th>2625</th>\n",
              "      <td>467961</td>\n",
              "      <td>B</td>\n",
              "    </tr>\n",
              "    <tr>\n",
              "      <th>2626</th>\n",
              "      <td>467968</td>\n",
              "      <td>D</td>\n",
              "    </tr>\n",
              "  </tbody>\n",
              "</table>\n",
              "<p>2627 rows × 2 columns</p>\n",
              "</div>"
            ],
            "text/plain": [
              "          ID Segmentation\n",
              "0     458989            B\n",
              "1     458994            C\n",
              "2     458996            A\n",
              "3     459000            C\n",
              "4     459001            D\n",
              "...      ...          ...\n",
              "2622  467954            D\n",
              "2623  467958            A\n",
              "2624  467960            A\n",
              "2625  467961            B\n",
              "2626  467968            D\n",
              "\n",
              "[2627 rows x 2 columns]"
            ]
          },
          "metadata": {
            "tags": []
          },
          "execution_count": 494
        }
      ]
    },
    {
      "cell_type": "code",
      "metadata": {
        "colab_type": "code",
        "id": "fy-RQaM3JSjW",
        "colab": {
          "base_uri": "https://localhost:8080/",
          "height": 122
        },
        "outputId": "f2755c5a-8afa-4462-bebd-86a47536eb38"
      },
      "source": [
        "count = 0 \n",
        "for i in Df:\n",
        "  A = (Df.iloc[count] == leaked_prediction['ID'])\n",
        "  leaked_prediction.Segmentation.iloc[A[::-1].idxmax()] = Dataset_train[Dataset_train.eq(i).any(1)].Segmentation.iloc[0]\n",
        "  count+=1"
      ],
      "execution_count": null,
      "outputs": [
        {
          "output_type": "stream",
          "text": [
            "/usr/local/lib/python3.6/dist-packages/pandas/core/indexing.py:671: SettingWithCopyWarning: \n",
            "A value is trying to be set on a copy of a slice from a DataFrame\n",
            "\n",
            "See the caveats in the documentation: https://pandas.pydata.org/pandas-docs/stable/user_guide/indexing.html#returning-a-view-versus-a-copy\n",
            "  self._setitem_with_indexer(indexer, value)\n"
          ],
          "name": "stderr"
        }
      ]
    },
    {
      "cell_type": "code",
      "metadata": {
        "colab_type": "code",
        "id": "PcqxpaZGJSjY",
        "colab": {
          "base_uri": "https://localhost:8080/",
          "height": 419
        },
        "outputId": "01b53f79-41ff-4f20-e725-1bade9ec2b45"
      },
      "source": [
        "leaked_prediction"
      ],
      "execution_count": null,
      "outputs": [
        {
          "output_type": "execute_result",
          "data": {
            "text/html": [
              "<div>\n",
              "<style scoped>\n",
              "    .dataframe tbody tr th:only-of-type {\n",
              "        vertical-align: middle;\n",
              "    }\n",
              "\n",
              "    .dataframe tbody tr th {\n",
              "        vertical-align: top;\n",
              "    }\n",
              "\n",
              "    .dataframe thead th {\n",
              "        text-align: right;\n",
              "    }\n",
              "</style>\n",
              "<table border=\"1\" class=\"dataframe\">\n",
              "  <thead>\n",
              "    <tr style=\"text-align: right;\">\n",
              "      <th></th>\n",
              "      <th>ID</th>\n",
              "      <th>Segmentation</th>\n",
              "    </tr>\n",
              "  </thead>\n",
              "  <tbody>\n",
              "    <tr>\n",
              "      <th>0</th>\n",
              "      <td>458989</td>\n",
              "      <td>B</td>\n",
              "    </tr>\n",
              "    <tr>\n",
              "      <th>1</th>\n",
              "      <td>458994</td>\n",
              "      <td>C</td>\n",
              "    </tr>\n",
              "    <tr>\n",
              "      <th>2</th>\n",
              "      <td>458996</td>\n",
              "      <td>A</td>\n",
              "    </tr>\n",
              "    <tr>\n",
              "      <th>3</th>\n",
              "      <td>459000</td>\n",
              "      <td>C</td>\n",
              "    </tr>\n",
              "    <tr>\n",
              "      <th>4</th>\n",
              "      <td>459001</td>\n",
              "      <td>C</td>\n",
              "    </tr>\n",
              "    <tr>\n",
              "      <th>...</th>\n",
              "      <td>...</td>\n",
              "      <td>...</td>\n",
              "    </tr>\n",
              "    <tr>\n",
              "      <th>2622</th>\n",
              "      <td>467954</td>\n",
              "      <td>D</td>\n",
              "    </tr>\n",
              "    <tr>\n",
              "      <th>2623</th>\n",
              "      <td>467958</td>\n",
              "      <td>A</td>\n",
              "    </tr>\n",
              "    <tr>\n",
              "      <th>2624</th>\n",
              "      <td>467960</td>\n",
              "      <td>A</td>\n",
              "    </tr>\n",
              "    <tr>\n",
              "      <th>2625</th>\n",
              "      <td>467961</td>\n",
              "      <td>B</td>\n",
              "    </tr>\n",
              "    <tr>\n",
              "      <th>2626</th>\n",
              "      <td>467968</td>\n",
              "      <td>D</td>\n",
              "    </tr>\n",
              "  </tbody>\n",
              "</table>\n",
              "<p>2627 rows × 2 columns</p>\n",
              "</div>"
            ],
            "text/plain": [
              "          ID Segmentation\n",
              "0     458989            B\n",
              "1     458994            C\n",
              "2     458996            A\n",
              "3     459000            C\n",
              "4     459001            C\n",
              "...      ...          ...\n",
              "2622  467954            D\n",
              "2623  467958            A\n",
              "2624  467960            A\n",
              "2625  467961            B\n",
              "2626  467968            D\n",
              "\n",
              "[2627 rows x 2 columns]"
            ]
          },
          "metadata": {
            "tags": []
          },
          "execution_count": 496
        }
      ]
    },
    {
      "cell_type": "code",
      "metadata": {
        "colab_type": "code",
        "id": "iGYsbwGLJSja",
        "colab": {}
      },
      "source": [
        "leaked_prediction.to_csv('nestimator500_ensemble.csv', index=False)"
      ],
      "execution_count": null,
      "outputs": []
    }
  ]
}